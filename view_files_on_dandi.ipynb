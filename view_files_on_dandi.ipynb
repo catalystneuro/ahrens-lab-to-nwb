{
 "cells": [
  {
   "cell_type": "markdown",
   "id": "be11f54e-3d25-4fb4-858a-78bbdb912ef6",
   "metadata": {},
   "source": [
    "# Make a free account on the DANDI Hub (hub.dandiarchive.org)\n",
    "## Download this notebook from the GitHub page\n",
    "## Launch a new instance (any size) and then drag this notebook into the left panel (the file system)\n",
    "## Now open this notebook on the Hub and run the cells"
   ]
  },
  {
   "cell_type": "code",
   "execution_count": null,
   "id": "d7a09af6-a7b5-4d92-8f9e-684d3128576b",
   "metadata": {},
   "outputs": [],
   "source": [
    "%pip install -U nwbwidgets\n",
    "%pip install -U pynwb"
   ]
  },
  {
   "cell_type": "markdown",
   "id": "2e726e12-8eb1-42e5-8d20-dfab50e4392b",
   "metadata": {},
   "source": [
    "### From the Panel view, you can see every file on the DANDI archive! Our dandiset is #350, so scroll down until you see it"
   ]
  },
  {
   "cell_type": "code",
   "execution_count": null,
   "id": "1d83c268-0878-483d-9db9-8d4655179b47",
   "metadata": {},
   "outputs": [],
   "source": [
    "from nwbwidgets.panel import Panel\n",
    "\n",
    "Panel()"
   ]
  },
  {
   "cell_type": "markdown",
   "id": "0989a4e8-28db-4856-bebd-26dc477f75b7",
   "metadata": {},
   "source": [
    "# If you ever want more direct access to the files, just run the following setup\n",
    "### Setup streaming"
   ]
  },
  {
   "cell_type": "code",
   "execution_count": null,
   "id": "047333f1-4d2a-4bc4-99c9-01fc04feaa23",
   "metadata": {},
   "outputs": [],
   "source": [
    "import h5py\n",
    "import fsspec\n",
    "from fsspec.implementations.cached import CachingFileSystem\n",
    "from pynwb import NWBHDF5IO"
   ]
  },
  {
   "cell_type": "code",
   "execution_count": null,
   "id": "9751614f-1ed6-446b-88c9-bbaee3c47a78",
   "metadata": {},
   "outputs": [],
   "source": [
    "s3_url = \"https://dandiarchive.s3.amazonaws.com/blobs/297/fd6/297fd6b9-4c28-48c4-8c86-e9ef2a0fb07d\"\n",
    "cfs = CachingFileSystem(\n",
    "    fs=fsspec.filesystem(\"http\"),\n",
    "    cache_storage=\"/home/jovyan/fsspec_cache\",  # Local folder for the cache\n",
    ")\n",
    "file_system = cfs.open(s3_url, \"rb\")\n",
    "file = h5py.File(file_system)\n",
    "io = NWBHDF5IO(file=file, load_namespaces=True)\n",
    "nwbfile = io.read()"
   ]
  },
  {
   "cell_type": "markdown",
   "id": "4a043b9d-dcd4-4b1e-8fcd-f98b3017a033",
   "metadata": {},
   "source": [
    "nwbfile"
   ]
  }
 ],
 "metadata": {
  "kernelspec": {
   "display_name": "Python 3 (ipykernel)",
   "language": "python",
   "name": "python3"
  },
  "language_info": {
   "codemirror_mode": {
    "name": "ipython",
    "version": 3
   },
   "file_extension": ".py",
   "mimetype": "text/x-python",
   "name": "python",
   "nbconvert_exporter": "python",
   "pygments_lexer": "ipython3",
   "version": "3.10.5"
  }
 },
 "nbformat": 4,
 "nbformat_minor": 5
}
